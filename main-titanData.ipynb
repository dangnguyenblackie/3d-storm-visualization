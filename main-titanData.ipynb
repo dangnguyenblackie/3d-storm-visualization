{
 "cells": [
  {
   "cell_type": "code",
   "execution_count": 1,
   "metadata": {},
   "outputs": [
    {
     "name": "stdout",
     "output_type": "stream",
     "text": [
      "\n",
      "## You are using the Python ARM Radar Toolkit (Py-ART), an open source\n",
      "## library for working with weather radar data. Py-ART is partly\n",
      "## supported by the U.S. Department of Energy as part of the Atmospheric\n",
      "## Radiation Measurement (ARM) Climate Research Facility, an Office of\n",
      "## Science user facility.\n",
      "##\n",
      "## If you use this software to prepare a publication, please cite:\n",
      "##\n",
      "##     JJ Helmus and SM Collis, JORS 2016, doi: 10.5334/jors.119\n",
      "\n"
     ]
    }
   ],
   "source": [
    "import matplotlib.pyplot as plt\n",
    "import numpy as np\n",
    "import pyart\n",
    "import cartopy.crs as ccrs\n",
    "from pyart.testing import get_test_data\n",
    "import os"
   ]
  },
  {
   "cell_type": "code",
   "execution_count": 37,
   "metadata": {},
   "outputs": [],
   "source": [
    "dataDir = \"Data/01/1_prt/\"\n",
    "filenames = [dataDir + filename for filename in os.listdir(dataDir)]"
   ]
  },
  {
   "cell_type": "code",
   "execution_count": 38,
   "metadata": {},
   "outputs": [],
   "source": [
    "# Read in a sample file\n",
    "radar = pyart.io.read(filenames[0])\n",
    "# filename = get_test_data(\"110635.mdv\")\n",
    "# radar = pyart.io.read(filename)\n"
   ]
  },
  {
   "cell_type": "code",
   "execution_count": null,
   "metadata": {},
   "outputs": [],
   "source": [
    "# radar = pyart.io.read(filenames[0])\n",
    "# len(radar.elevation[\"data\"].tolist())\n",
    "\n",
    "radar.range\n"
   ]
  },
  {
   "cell_type": "code",
   "execution_count": 62,
   "metadata": {},
   "outputs": [
    {
     "data": {
      "image/png": "[encoded data removed]",
      "text/plain": [
       "<Figure size 800x800 with 1 Axes>"
      ]
     },
     "metadata": {},
     "output_type": "display_data"
    }
   ],
   "source": [
    "\n",
    "# Calculate composite reflectivity, or the maximum reflectivity across all elevation levels\n",
    "compz = pyart.retrieve.composite_reflectivity(\n",
    "    radar, field=\"reflectivity\"\n",
    ")\n",
    "\n",
    "# Plot the original reflectivity field and the composite field\n",
    "fig, ax = plt.subplots(figsize=(8, 8))\n",
    "composite_display = pyart.graph.RadarDisplay(compz)\n",
    "composite_display.plot(\n",
    "    \"composite_reflectivity\", ax=ax, vmin=35, vmax=70, cmap=\"pyart_HomeyerRainbow\", colorbar_flag=False\n",
    ")\n",
    "ax.set_xticks([])\n",
    "ax.set_yticks([])\n",
    "ax.set_xticklabels([])\n",
    "ax.set_yticklabels([])\n",
    "ax.set_xlabel('')\n",
    "ax.set_ylabel('')\n",
    "ax.set_title('')\n",
    "ax.grid(False)\n",
    "plt.tight_layout()"
   ]
  },
  {
   "cell_type": "code",
   "execution_count": 60,
   "metadata": {},
   "outputs": [],
   "source": [
    "data_img_path = 'Data/model_data/'\n",
    "def get_date_img(dataPath):\n",
    "    for i in dataPath:\n",
    "\n",
    "        data_path = data_img_path + i.split(\"/\")[-1].split(\".\")[0]+'.png'\n",
    "\n",
    "        radar = pyart.io.read(i)\n",
    "        compz = pyart.retrieve.composite_reflectivity(\n",
    "            radar, field=\"reflectivity\"\n",
    "        )\n",
    "\n",
    "        # Plot the original reflectivity field and the composite field\n",
    "        fig, ax = plt.subplots(figsize=(8, 8))\n",
    "        composite_display = pyart.graph.RadarDisplay(compz)\n",
    "        composite_display.plot(\n",
    "            \"composite_reflectivity\", ax=ax, vmin=-10, vmax=70, cmap=\"pyart_HomeyerRainbow\", colorbar_flag=False\n",
    "        )\n",
    "        ax.set_xticks([])\n",
    "        ax.set_yticks([])\n",
    "        ax.set_xticklabels([])\n",
    "        ax.set_yticklabels([])\n",
    "        ax.set_xlabel('')\n",
    "        ax.set_ylabel('')\n",
    "        ax.set_title('')\n",
    "        ax.grid(False)\n",
    "        plt.tight_layout()\n",
    "        # Save the plot to a file (e.g., PNG)\n",
    "        plt.savefig(data_path, bbox_inches='tight')\n",
    "\n",
    "        # Close the figure\n",
    "        plt.close()"
   ]
  },
  {
   "cell_type": "code",
   "execution_count": 61,
   "metadata": {},
   "outputs": [],
   "source": [
    "get_date_img(filenames)"
   ]
  }
 ],
 "metadata": {
  "kernelspec": {
   "display_name": "base",
   "language": "python",
   "name": "python3"
  },
  "language_info": {
   "codemirror_mode": {
    "name": "ipython",
    "version": 3
   },
   "file_extension": ".py",
   "mimetype": "text/x-python",
   "name": "python",
   "nbconvert_exporter": "python",
   "pygments_lexer": "ipython3",
   "version": "3.11.4"
  }
 },
 "nbformat": 4,
 "nbformat_minor": 2
}
